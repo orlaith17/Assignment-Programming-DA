{
 "cells": [
  {
   "cell_type": "markdown",
   "metadata": {},
   "source": [
    "# The Numpy.Random Package\n",
    "\n",
    "The following assignment concerns the numpy.random package in Python. You are\n",
    "required to create a Jupyter notebook explaining the use of the package, including\n",
    "detailed explanations of at least five of the distributions provided for in the package.\n",
    "There are four distinct tasks to be carried out in your Jupyter notebook.\n",
    "1. Explain the overall purpose of the package.\n",
    "2. Explain the use of the “Simple random data” and “Permutations” functions.\n",
    "3. Explain the use and purpose of at least five “Distributions” functions.\n",
    "4. Explain the use of seeds in generating pseudorandom numbers."
   ]
  },
  {
   "cell_type": "markdown",
   "metadata": {},
   "source": [
    "# 1. Explain the overall purpose of the package\n",
    "![numpy logo](https://cdn-images-1.medium.com/max/1600/1*mc5YIn7jvo5uwuqBOUDw7Q.jpeg)\n",
    "\n",
    "Numpy is a really important package in Python because it is the fundamental package for scientific computing and alot of other packages within Python depend on it. \n",
    "\n",
    "The numpy.random module (Random Sampling) is a sub-package of the Numpy package which contains many functions for the generation of random numbers. The numbers are not quite random. They are termed pseudorandom because computers cannot generate random numbers. It takes a parameter to start off the sequence, called the seed. \n",
    "\n",
    "![random number generation](https://i.stack.imgur.com/KwzKK.png)\n",
    "\n",
    "Numpy.random uses a particular algorithm, called the Mersenne Twister, to generate the pseudorandom numbers. The Mersenne Twister is by far the most widely used general-purpose pseudorandom number generator (PRNG)."
   ]
  },
  {
   "cell_type": "markdown",
   "metadata": {},
   "source": [
    "The use of randomness is an important part of the configuration and evaluation of machine learning algorithms. Some uses for random number generators include the:\n",
    "- Random initialization of weights in an artificial neural network\n",
    "- Splitting of data into random train and test set\n",
    "- Random shuffling of a training dataset in stochastic gradient descent"
   ]
  },
  {
   "cell_type": "code",
   "execution_count": 62,
   "metadata": {},
   "outputs": [],
   "source": [
    "# load Numpy\n",
    "import numpy as np"
   ]
  },
  {
   "cell_type": "markdown",
   "metadata": {},
   "source": [
    "# 2. Explain the use of the “Simple random data” and “Permutations” functions."
   ]
  },
  {
   "cell_type": "markdown",
   "metadata": {},
   "source": [
    "## (i) Simple Random Data\n",
    "\n",
    "(standard and normal are generally the same so there is no need to go into great detail on both)\n",
    "![numpy graph](https://docs.scipy.org/doc/numpy-1.15.0/_images/numpy-random-normal-1.png) "
   ]
  },
  {
   "cell_type": "markdown",
   "metadata": {},
   "source": [
    "In statistics, a simple random sample is a subset of individuals (a sample) chosen from a larger set (a population). Each individual is chosen randomly and entirely by chance, such that each individual has the same probability of being chosen at any stage during the sampling process, and each subset of k individuals has the same probability of being chosen for the sample as any other subset of k individuals.[1] This process and technique is known as simple random sampling, and should not be confused with systematic random sampling. A simple random sample is an unbiased surveying technique.\n",
    "\n",
    "Simple random sampling is a basic type of sampling, since it can be a component of other more complex sampling methods. The principle of simple random sampling is that every object has the same probability of being chosen. For example, suppose N college students want to get a ticket for a basketball game, but there are only X < N tickets for them, so they decide to have a fair way to see who gets to go. Then, everybody is given a number in the range from 0 to N-1, and random numbers are generated, either electronically or from a table of random numbers. Numbers outside the range from 0 to N-1 are ignored, as are any numbers previously selected. The first X numbers would identify the lucky ticket winners.\n",
    "\n",
    "In small populations and often in large ones, such sampling is typically done \"without replacement\", i.e., one deliberately avoids choosing any member of the population more than once. Although simple random sampling can be conducted with replacement instead, this is less common and would normally be described more fully as simple random sampling with replacement. Sampling done without replacement is no longer independent, but still satisfies exchangeability, hence many results still hold. Further, for a small sample from a large population, sampling without replacement is approximately the same as sampling with replacement, since the odds of choosing the same individual twice is low.\n",
    "\n",
    "An unbiased random selection of individuals is important so that if a large number of samples were drawn, the average sample would accurately represent the population. However, this does not guarantee that a particular sample is a perfect representation of the population. Simple random sampling merely allows one to draw externally valid conclusions about the entire population based on the sample.\n",
    "\n",
    "Conceptually, simple random sampling is the simplest of the probability sampling techniques. It requires a complete sampling frame, which may not be available or feasible to construct for large populations. Even if a complete frame is available, more efficient approaches may be possible if other useful information is available about the units in the population.\n",
    "\n",
    "Advantages are that it is free of classification error, and it requires minimum advance knowledge of the population other than the frame. Its simplicity also makes it relatively easy to interpret data collected in this manner. For these reasons, simple random sampling best suits situations where not much information is available about the population and data collection can be efficiently conducted on randomly distributed items, or where the cost of sampling is small enough to make efficiency less important than simplicity. If these conditions do not hold, stratified sampling or cluster sampling may be a better choice."
   ]
  },
  {
   "cell_type": "code",
   "execution_count": null,
   "metadata": {},
   "outputs": [],
   "source": []
  },
  {
   "cell_type": "code",
   "execution_count": 47,
   "metadata": {
    "scrolled": true
   },
   "outputs": [
    {
     "data": {
      "text/plain": [
       "array([[0.689049  , 0.0085391 , 0.20788094],\n",
       "       [0.25844875, 0.85048158, 0.99730943],\n",
       "       [0.38166686, 0.49284471, 0.6836218 ],\n",
       "       [0.07981057, 0.46635529, 0.64606818]])"
      ]
     },
     "execution_count": 47,
     "metadata": {},
     "output_type": "execute_result"
    }
   ],
   "source": [
    "np.random.rand(4,3)\n",
    "\n",
    "# rand function is between [0, 1). [0 includes 0, 1) excludes 1"
   ]
  },
  {
   "cell_type": "code",
   "execution_count": 48,
   "metadata": {},
   "outputs": [
    {
     "data": {
      "text/plain": [
       "0.21135216820075275"
      ]
     },
     "execution_count": 48,
     "metadata": {},
     "output_type": "execute_result"
    }
   ],
   "source": [
    "np.random.rand()"
   ]
  },
  {
   "cell_type": "code",
   "execution_count": 49,
   "metadata": {},
   "outputs": [
    {
     "data": {
      "text/plain": [
       "array([0.27784459, 0.93944337, 0.24703738])"
      ]
     },
     "execution_count": 49,
     "metadata": {},
     "output_type": "execute_result"
    }
   ],
   "source": [
    "np.random.rand(3)"
   ]
  },
  {
   "cell_type": "code",
   "execution_count": 50,
   "metadata": {},
   "outputs": [
    {
     "data": {
      "text/plain": [
       "array([[[0.06974092, 0.9478801 ],\n",
       "        [0.82819813, 0.52019461],\n",
       "        [0.98501777, 0.92614701],\n",
       "        [0.14459224, 0.74350563],\n",
       "        [0.40557937, 0.63203451]],\n",
       "\n",
       "       [[0.40789994, 0.06018864],\n",
       "        [0.88244199, 0.92460213],\n",
       "        [0.46193312, 0.54996351],\n",
       "        [0.78446445, 0.85514753],\n",
       "        [0.22361515, 0.56610619]],\n",
       "\n",
       "       [[0.46729739, 0.85296068],\n",
       "        [0.12318983, 0.20605185],\n",
       "        [0.58628195, 0.11483396],\n",
       "        [0.8239697 , 0.2850287 ],\n",
       "        [0.02067798, 0.35265979]]])"
      ]
     },
     "execution_count": 50,
     "metadata": {},
     "output_type": "execute_result"
    }
   ],
   "source": [
    "np.random.rand(3,5,2)"
   ]
  },
  {
   "cell_type": "code",
   "execution_count": 51,
   "metadata": {},
   "outputs": [],
   "source": [
    "% matplotlib inline\n",
    "\n",
    "import matplotlib.pyplot as plt"
   ]
  },
  {
   "cell_type": "code",
   "execution_count": 52,
   "metadata": {},
   "outputs": [
    {
     "data": {
      "text/plain": [
       "array([0.3014709 , 0.87360724, 0.3172455 , ..., 0.37608247, 0.70241695,\n",
       "       0.77816634])"
      ]
     },
     "execution_count": 52,
     "metadata": {},
     "output_type": "execute_result"
    }
   ],
   "source": [
    "x = np.random.rand(10000)\n",
    "x"
   ]
  },
  {
   "cell_type": "code",
   "execution_count": 53,
   "metadata": {},
   "outputs": [
    {
     "data": {
      "text/plain": [
       "(array([ 976.,  995., 1018., 1062., 1021.,  966.,  972., 1053.,  959.,\n",
       "         978.]),\n",
       " array([4.81905066e-05, 1.00033984e-01, 2.00019778e-01, 3.00005572e-01,\n",
       "        3.99991366e-01, 4.99977159e-01, 5.99962953e-01, 6.99948747e-01,\n",
       "        7.99934541e-01, 8.99920334e-01, 9.99906128e-01]),\n",
       " <a list of 10 Patch objects>)"
      ]
     },
     "execution_count": 53,
     "metadata": {},
     "output_type": "execute_result"
    },
    {
     "data": {
      "image/png": "[encoded data removed]",
      "text/plain": [
       "<Figure size 432x288 with 1 Axes>"
      ]
     },
     "metadata": {
      "needs_background": "light"
     },
     "output_type": "display_data"
    }
   ],
   "source": [
    "plt.hist (x)"
   ]
  },
  {
   "cell_type": "code",
   "execution_count": 54,
   "metadata": {},
   "outputs": [
    {
     "data": {
      "text/plain": [
       "array([5.62685193, 5.57821622, 6.45380529, 7.59542337, 6.86595365,\n",
       "       5.64967379, 6.63973872, 6.34937677, 5.34941318, 5.72969589])"
      ]
     },
     "execution_count": 54,
     "metadata": {},
     "output_type": "execute_result"
    }
   ],
   "source": [
    "# .rand gives you numbers from 0-1 whereas .uniform lets you define the numbers\n",
    "\n",
    "np.random.uniform(5,8,10)\n",
    "#lower number included, upper not...as above"
   ]
  },
  {
   "cell_type": "code",
   "execution_count": 55,
   "metadata": {},
   "outputs": [],
   "source": [
    "y = np.random.uniform(5,8,10)"
   ]
  },
  {
   "cell_type": "code",
   "execution_count": 56,
   "metadata": {},
   "outputs": [
    {
     "data": {
      "text/plain": [
       "(array([1., 1., 0., 3., 1., 0., 1., 1., 0., 2.]),\n",
       " array([5.44905538, 5.6706403 , 5.89222522, 6.11381015, 6.33539507,\n",
       "        6.55697999, 6.77856491, 7.00014983, 7.22173475, 7.44331967,\n",
       "        7.66490459]),\n",
       " <a list of 10 Patch objects>)"
      ]
     },
     "execution_count": 56,
     "metadata": {},
     "output_type": "execute_result"
    },
    {
     "data": {
      "image/png": "[encoded data removed]",
      "text/plain": [
       "<Figure size 432x288 with 1 Axes>"
      ]
     },
     "metadata": {
      "needs_background": "light"
     },
     "output_type": "display_data"
    }
   ],
   "source": [
    "plt.hist (y)"
   ]
  },
  {
   "cell_type": "code",
   "execution_count": 57,
   "metadata": {},
   "outputs": [],
   "source": [
    "z = np.random.normal(500, 100, 10000)"
   ]
  },
  {
   "cell_type": "code",
   "execution_count": 58,
   "metadata": {},
   "outputs": [
    {
     "data": {
      "text/plain": [
       "(array([  17.,  120.,  570., 1614., 2789., 2723., 1565.,  501.,   96.,\n",
       "           5.]), array([121.00250643, 197.20712702, 273.41174762, 349.61636822,\n",
       "        425.82098881, 502.02560941, 578.23023001, 654.43485061,\n",
       "        730.6394712 , 806.8440918 , 883.0487124 ]), <a list of 10 Patch objects>)"
      ]
     },
     "execution_count": 58,
     "metadata": {},
     "output_type": "execute_result"
    },
    {
     "data": {
      "image/png": "[encoded data removed]",
      "text/plain": [
       "<Figure size 432x288 with 1 Axes>"
      ]
     },
     "metadata": {
      "needs_background": "light"
     },
     "output_type": "display_data"
    }
   ],
   "source": [
    "plt.hist (z)"
   ]
  },
  {
   "cell_type": "markdown",
   "metadata": {},
   "source": [
    "## (ii) Permutations\n",
    "\n",
    "has only two functions\n",
    "\n",
    "A permutation is an arrangement of all or part of a set of objects, with regard to the order of the arrangement. For example, suppose we have a set of three letters: A, B, and C. We might ask how many ways we can arrange 2 letters from that set. ... They describe permutations as n distinct objects taken r at a time.\n",
    "\n",
    "\n",
    "### Stat Trek\n",
    "Statistics Dictionary\n",
    "To see a definition, select a term from the dropdown text box below. The statistics dictionary will display the definition, plus links to related web pages.\n",
    "\n",
    "Select term: \n",
    "\n",
    "Permutation\n",
    "A permutation is an arrangement of all or part of a set of objects, with regard to the order of the arrangement.\n",
    "\n",
    "For example, suppose we have a set of three letters: A, B, and C. We might ask how many ways we can arrange 2 letters from that set. Each possible arrangement would be an example of a permutation. The complete list of possible permutations would be: AB, AC, BA, BC, CA, and CB.\n",
    "\n",
    "When they refer to permutations, statisticians use a specific terminology. They describe permutations as n distinct objects taken r at a time. Translation: n refers to the number of objects from which the permutation is formed; and r refers to the number of objects used to form the permutation. Consider the example from the previous paragraph. The permutation was formed from 3 letters (A, B, and C), so n = 3; and the permutation consisted of 2 letters, so r = 2.\n",
    "\n",
    "Computing the number of permutations. The number of permutations of n objects taken r at a time is \n",
    "\n",
    "nPr = n(n - 1)(n - 2) ... (n - r + 1) = n! / (n - r)!\n",
    "Note the distinction between a permutation and a combination . A combination focuses on the selection of objects without regard to the order in which they are selected. A permutation, in contrast, focuses on the arrangement of objects with regard to the order in which they are arranged. Thus, the letters AB and BA represent two different permutations, because the order is different. However, they represent only 1 combination; because order is not important in a combination."
   ]
  },
  {
   "cell_type": "code",
   "execution_count": 59,
   "metadata": {},
   "outputs": [
    {
     "data": {
      "text/plain": [
       "array([3, 2, 5, 0, 8, 1, 9, 4, 6, 7])"
      ]
     },
     "execution_count": 59,
     "metadata": {},
     "output_type": "execute_result"
    }
   ],
   "source": [
    "# shuffle(x)\n",
    "# \tModify a sequence in-place by shuffling its contents.\n",
    "\n",
    "arr = np.arange(10)\n",
    "np.random.shuffle(arr)\n",
    "arr\n"
   ]
  },
  {
   "cell_type": "code",
   "execution_count": 60,
   "metadata": {},
   "outputs": [
    {
     "data": {
      "text/plain": [
       "array([3, 2, 0, 5, 4, 9, 1, 7, 8, 6])"
      ]
     },
     "execution_count": 60,
     "metadata": {},
     "output_type": "execute_result"
    }
   ],
   "source": [
    "# permutation(x)\tRandomly permute a sequence, or return a permuted range.\n",
    "\n",
    "np.random.permutation(10)\n"
   ]
  },
  {
   "cell_type": "markdown",
   "metadata": {},
   "source": [
    "# 3. Explain the use and purpose of at least five “Distributions” functions.\n",
    "\n",
    "(also called main probability distributions) pick 3 or 4 and explain how they relate to each other"
   ]
  },
  {
   "cell_type": "markdown",
   "metadata": {},
   "source": [
    "![main probability distributions](http://blog.cloudera.com/wp-content/uploads/2015/12/distribution.png)"
   ]
  },
  {
   "cell_type": "markdown",
   "metadata": {},
   "source": [
    "## (i) geometric\n",
    "\n",
    "![geometric distributions](https://www.mql5.com/en/docs/img/demogeometricdistribution.png)\n",
    "\n",
    "Draw samples from the geometric distribution.\n",
    "\n",
    "Bernoulli trials are experiments with one of two outcomes: success or failure (an example of such an experiment is flipping a coin). The geometric distribution models the number of trials that must be run in order to achieve success. It is therefore supported on the positive integers, k = 1, 2, ....\n",
    "\n",
    "The probability mass function of the geometric distribution is\n",
    "\n",
    "f(k) = (1 - p)^{k - 1} p\n",
    "\n",
    "where p is the probability of success of an individual trial.\n",
    "\n",
    "Parameters:\t\n",
    "p : float or array_like of floats\n",
    "The probability of success of an individual trial.\n",
    "\n",
    "size : int or tuple of ints, optional\n",
    "Output shape. If the given shape is, e.g., (m, n, k), then m * n * k samples are drawn. If size is None (default), a single value is returned if p is a scalar. Otherwise, np.array(p).size samples are drawn.\n",
    "\n",
    "Returns:\t\n",
    "out : ndarray or scalar\n",
    "Drawn samples from the parameterized geometric distribution.\n",
    "\n",
    "Examples\n",
    "\n",
    "Draw ten thousand values from the geometric distribution, with the probability of an individual success equal to 0.35:\n",
    "\n",
    ">>>\n",
    ">>> z = np.random.geometric(p=0.35, size=10000)\n",
    "How many trials succeeded after a single run?\n",
    "\n",
    ">>>\n",
    ">>> (z == 1).sum() / 10000.\n",
    "0.34889999999999999 #random"
   ]
  },
  {
   "cell_type": "markdown",
   "metadata": {},
   "source": [
    "## (ii) exponential\n",
    "\n",
    "Draw samples from an exponential distribution.\n",
    "\n",
    "Its probability density function is\n",
    "\n",
    "f(x; \\frac{1}{\\beta}) = \\frac{1}{\\beta} \\exp(-\\frac{x}{\\beta}),\n",
    "\n",
    "for x > 0 and 0 elsewhere. \\beta is the scale parameter, which is the inverse of the rate parameter \\lambda = 1/\\beta. The rate parameter is an alternative, widely used parameterization of the exponential distribution [3].\n",
    "\n",
    "The exponential distribution is a continuous analogue of the geometric distribution. It describes many common situations, such as the size of raindrops measured over many rainstorms [1], or the time between page requests to Wikipedia [2].\n",
    "\n",
    "Parameters:\t\n",
    "scale : float or array_like of floats\n",
    "The scale parameter, \\beta = 1/\\lambda.\n",
    "\n",
    "size : int or tuple of ints, optional\n",
    "Output shape. If the given shape is, e.g., (m, n, k), then m * n * k samples are drawn. If size is None (default), a single value is returned if scale is a scalar. Otherwise, np.array(scale).size samples are drawn.\n",
    "\n",
    "Returns:\t\n",
    "out : ndarray or scalar\n",
    "Drawn samples from the parameterized exponential distribution."
   ]
  },
  {
   "cell_type": "markdown",
   "metadata": {},
   "source": [
    "## (iii) binomial"
   ]
  },
  {
   "cell_type": "markdown",
   "metadata": {},
   "source": [
    "## (iv) poisson\n",
    "\n",
    "Draw samples from a Poisson distribution.\n",
    "\n",
    "The Poisson distribution is the limit of the binomial distribution for large N.\n",
    "\n",
    "Parameters:\t\n",
    "lam : float or array_like of floats\n",
    "Expectation of interval, should be >= 0. A sequence of expectation intervals must be broadcastable over the requested size.\n",
    "\n",
    "size : int or tuple of ints, optional\n",
    "Output shape. If the given shape is, e.g., (m, n, k), then m * n * k samples are drawn. If size is None (default), a single value is returned if lam is a scalar. Otherwise, np.array(lam).size samples are drawn.\n",
    "\n",
    "Returns:\t\n",
    "out : ndarray or scalar\n",
    "Drawn samples from the parameterized Poisson distribution.\n",
    "\n",
    "Notes\n",
    "\n",
    "The Poisson distribution\n",
    "\n",
    "f(k; \\lambda)=\\frac{\\lambda^k e^{-\\lambda}}{k!}\n",
    "\n",
    "For events with an expected separation \\lambda the Poisson distribution f(k; \\lambda) describes the probability of k events occurring within the observed interval \\lambda.\n",
    "\n",
    "Because the output is limited to the range of the C long type, a ValueError is raised when lam is within 10 sigma of the maximum representable value.\n",
    "\n",
    "References\n",
    "\n",
    "[1]\tWeisstein, Eric W. “Poisson Distribution.” From MathWorld–A Wolfram Web Resource. http://mathworld.wolfram.com/PoissonDistribution.html\n",
    "[2]\tWikipedia, “Poisson distribution”, http://en.wikipedia.org/wiki/Poisson_distribution\n",
    "Examples\n",
    "\n",
    "Draw samples from the distribution:\n",
    "\n",
    ">>>\n",
    ">>> import numpy as np\n",
    ">>> s = np.random.poisson(5, 10000)\n",
    "Display histogram of the sample:\n",
    "\n",
    ">>>\n",
    ">>> import matplotlib.pyplot as plt\n",
    ">>> count, bins, ignored = plt.hist(s, 14, density=True)\n",
    ">>> plt.show()\n",
    "../../_images/numpy-random-poisson-1_00_00.png\n",
    "Draw each 100 values for lambda 100 and 500:\n",
    "\n",
    ">>>\n",
    ">>> s = np.random.poisson(lam=(100., 500.), size=(100, 2))"
   ]
  },
  {
   "cell_type": "markdown",
   "metadata": {},
   "source": [
    "## (v) normal (gaussian)\n",
    "\n",
    "Draw random samples from a normal (Gaussian) distribution.\n",
    "\n",
    "The probability density function of the normal distribution, first derived by De Moivre and 200 years later by both Gauss and Laplace independently [2], is often called the bell curve because of its characteristic shape (see the example below).\n",
    "\n",
    "The normal distributions occurs often in nature. For example, it describes the commonly occurring distribution of samples influenced by a large number of tiny, random disturbances, each with its own unique distribution [2].\n",
    "\n",
    "Parameters:\t\n",
    "loc : float or array_like of floats\n",
    "Mean (“centre”) of the distribution.\n",
    "\n",
    "scale : float or array_like of floats\n",
    "Standard deviation (spread or “width”) of the distribution.\n",
    "\n",
    "size : int or tuple of ints, optional\n",
    "Output shape. If the given shape is, e.g., (m, n, k), then m * n * k samples are drawn. If size is None (default), a single value is returned if loc and scale are both scalars. Otherwise, np.broadcast(loc, scale).size samples are drawn.\n",
    "\n",
    "Returns:\t\n",
    "out : ndarray or scalar\n",
    "Drawn samples from the parameterized normal distribution.\n",
    "\n",
    "See also\n",
    "scipy.stats.norm\n",
    "probability density function, distribution or cumulative density function, etc.\n",
    "Notes\n",
    "\n",
    "The probability density for the Gaussian distribution is\n",
    "\n",
    "p(x) = \\frac{1}{\\sqrt{ 2 \\pi \\sigma^2 }}\n",
    "e^{ - \\frac{ (x - \\mu)^2 } {2 \\sigma^2} },\n",
    "\n",
    "where \\mu is the mean and \\sigma the standard deviation. The square of the standard deviation, \\sigma^2, is called the variance.\n",
    "\n",
    "The function has its peak at the mean, and its “spread” increases with the standard deviation (the function reaches 0.607 times its maximum at x + \\sigma and x - \\sigma [2]). This implies that numpy.random.normal is more likely to return samples lying close to the mean, rather than those far away.\n",
    "\n",
    "References\n",
    "\n",
    "[1]\tWikipedia, “Normal distribution”, http://en.wikipedia.org/wiki/Normal_distribution\n",
    "[2]\t(1, 2, 3, 4) P. R. Peebles Jr., “Central Limit Theorem” in “Probability, Random Variables and Random Signal Principles”, 4th ed., 2001, pp. 51, 51, 125.\n",
    "Examples\n",
    "\n",
    "Draw samples from the distribution:\n",
    "\n",
    ">>>\n",
    ">>> mu, sigma = 0, 0.1 # mean and standard deviation\n",
    ">>> s = np.random.normal(mu, sigma, 1000)\n",
    "Verify the mean and the variance:\n",
    "\n",
    ">>>\n",
    ">>> abs(mu - np.mean(s)) < 0.01\n",
    "True\n",
    ">>>\n",
    ">>> abs(sigma - np.std(s, ddof=1)) < 0.01\n",
    "True\n",
    "Display the histogram of the samples, along with the probability density function:\n",
    "\n",
    ">>>\n",
    ">>> import matplotlib.pyplot as plt\n",
    ">>> count, bins, ignored = plt.hist(s, 30, density=True)\n",
    ">>> plt.plot(bins, 1/(sigma * np.sqrt(2 * np.pi)) *\n",
    "...                np.exp( - (bins - mu)**2 / (2 * sigma**2) ),\n",
    "...          linewidth=2, color='r')\n",
    ">>> plt.show()\n",
    "../../_images/numpy-random-normal-1.png"
   ]
  },
  {
   "cell_type": "markdown",
   "metadata": {},
   "source": [
    "# 4. Explain the use of seeds in generating pseudorandom numbers"
   ]
  },
  {
   "cell_type": "markdown",
   "metadata": {},
   "source": [
    "The source of randomness that we inject into our programs and algorithms is a mathematical trick called a pseudorandom number generator.\n",
    "\n",
    "A random number generator is a system that generates random numbers from a true source of randomness. Often something physical, such as a Geiger counter, where the results are turned into random numbers. We do not need true randomness in machine learning. Instead we can use pseudorandomness. Pseudorandomness is a sample of numbers that look close to random, but were generated using a deterministic process.\n",
    "\n",
    "Shuffling data and initializing coefficients with random values use pseudorandom number generators. These little programs are often a function that you can call that will return a random number. Called again, they will return a new random number. Wrapper functions are often also available and allow you to get your randomness as an integer, floating point, within a specific distribution, within a specific range, and so on.\n",
    "\n",
    "The numbers are generated in a sequence. The sequence is deterministic and is seeded with an initial number. If you do not explicitly seed the pseudorandom number generator, then it may use the current system time in seconds or milliseconds as the seed.\n",
    "\n",
    "The value of the seed does not matter. Choose anything you wish. What does matter is that the same seeding of the process will result in the same sequence of random numbers."
   ]
  },
  {
   "cell_type": "markdown",
   "metadata": {},
   "source": [
    "Seed The Random Number Generator\n",
    "The pseudorandom number generator is a mathematical function that generates a sequence of nearly random numbers.\n",
    "\n",
    "It takes a parameter to start off the sequence, called the seed. The function is deterministic, meaning given the same seed, it will produce the same sequence of numbers every time. The choice of seed does not matter.\n",
    "\n",
    "The seed() function will seed the pseudorandom number generator, taking an integer value as an argument, such as 1 or 7. If the seed() function is not called prior to using randomness, the default is to use the current system time in milliseconds from epoch (1970).\n",
    "\n",
    "The example below demonstrates seeding the pseudorandom number generator, generates some random numbers, and shows that reseeding the generator will result in the same sequence of numbers being generated.\n",
    "\n",
    "\n",
    "# seed the pseudorandom number generator\n",
    "from random import seed\n",
    "from random import random\n",
    "# seed random number generator\n",
    "seed(1)\n",
    "# generate some random numbers\n",
    "print(random(), random(), random())\n",
    "# reset the seed\n",
    "seed(1)\n",
    "# generate some random numbers\n",
    "print(random(), random(), random())\n",
    "1\n",
    "2\n",
    "3\n",
    "4\n",
    "5\n",
    "6\n",
    "7\n",
    "8\n",
    "9\n",
    "10\n",
    "11\n",
    "# seed the pseudorandom number generator\n",
    "from random import seed\n",
    "from random import random\n",
    "# seed random number generator\n",
    "seed(1)\n",
    "# generate some random numbers\n",
    "print(random(), random(), random())\n",
    "# reset the seed\n",
    "seed(1)\n",
    "# generate some random numbers\n",
    "print(random(), random(), random())\n",
    "Running the example seeds the pseudorandom number generator with the value 1, generates 3 random numbers, reseeds the generator, and shows that the same three random numbers are generated.\n",
    "\n",
    "\n",
    "0.13436424411240122 0.8474337369372327 0.763774618976614\n",
    "0.13436424411240122 0.8474337369372327 0.763774618976614\n",
    "1\n",
    "2\n",
    "0.13436424411240122 0.8474337369372327 0.763774618976614\n",
    "0.13436424411240122 0.8474337369372327 0.763774618976614\n",
    "It can be useful to control the randomness by setting the seed to ensure that your code produces the same result each time, such as in a production model.\n",
    "\n",
    "For running experiments where randomization is used to control for confounding variables, a different seed may be used for each experimental run."
   ]
  },
  {
   "cell_type": "markdown",
   "metadata": {},
   "source": [
    "\n",
    "\n",
    "Seed The Random Number Generator\n",
    "The pseudorandom number generator is a mathematical function that generates a sequence of nearly random numbers.\n",
    "\n",
    "It takes a parameter to start off the sequence, called the seed. The function is deterministic, meaning given the same seed, it will produce the same sequence of numbers every time. The choice of seed does not matter.\n",
    "\n",
    "The seed() function will seed the pseudorandom number generator, taking an integer value as an argument, such as 1 or 7. If the seed() function is not called prior to using randomness, the default is to use the current system time in milliseconds from epoch (1970).\n",
    "\n",
    "The example below demonstrates seeding the pseudorandom number generator, generates some random numbers, and shows that reseeding the generator will result in the same sequence of numbers being generated.\n",
    "\n",
    "\n",
    "\n",
    "\n",
    "\n",
    "\n",
    "\n",
    "\n",
    "A random seed (or seed state, or just seed) is a number (or vector) used to initialize a pseudorandom number generator.\n",
    "\n",
    "For a seed to be used in a pseudorandom number generator, it does not need to be random. Because of the nature of number generating algorithms, so long as the original seed is ignored, the rest of the values that the algorithm generates will follow probability distribution in a pseudorandom manner.\n",
    "\n",
    "The choice of a good random seed is crucial in the field of computer security. When a secret encryption key is pseudorandomly generated, having the seed will allow one to obtain the key. High entropy is important for selecting good random seed data.[1]\n",
    "\n",
    "If the same random seed is deliberately shared, it becomes a secret key, so two or more systems using matching pseudorandom number algorithms and matching seeds can generate matching sequences of non-repeating numbers which can be used to synchronize remote systems, such as GPS satellites and receivers.\n",
    "\n",
    "Random seeds are often generated from the state of the computer system (such as the time), a cryptographically secure pseudorandom number generator or from a hardware random number generator.\n",
    "\n",
    "Container for the Mersenne Twister pseudo-random number generator.\n",
    "\n",
    "RandomState exposes a number of methods for generating random numbers drawn from a variety of probability distributions. In addition to the distribution-specific arguments, each method takes a keyword argument size that defaults to None. If size is None, then a single value is generated and returned. If size is an integer, then a 1-D array filled with generated values is returned. If size is a tuple, then an array with that shape is filled and returned.\n",
    "\n",
    "Compatibility Guarantee A fixed seed and a fixed series of calls to ‘RandomState’ methods using the same parameters will always produce the same results up to roundoff error except when the values were incorrect. Incorrect values will be fixed and the NumPy version in which the fix was made will be noted in the relevant docstring. Extension of existing parameter ranges and the addition of new parameters is allowed as long the previous behavior remains unchanged.\n",
    "\n",
    "Parameters:\t\n",
    "seed : {None, int, array_like}, optional\n",
    "Random seed used to initialize the pseudo-random number generator. Can be any integer between 0 and 2**32 - 1 inclusive, an array (or other sequence) of such integers, or None (the default). If seed is None, then RandomState will try to read data from /dev/urandom (or the Windows analogue) if available or seed from the clock otherwise.\n",
    "\n",
    "Notes\n",
    "\n",
    "The Python stdlib module “random” also contains a Mersenne Twister pseudo-random number generator with a number of methods that are similar to the ones available in RandomState. RandomState, besides being NumPy-aware, has the advantage that it provides a much larger number of probability distributions to choose from.\n",
    "\n",
    "Methods\n",
    "\n",
    "beta(a, b[, size])\tDraw samples from a Beta distribution.\n",
    "binomial(n, p[, size])\tDraw samples from a binomial distribution.\n",
    "bytes(length)\tReturn random bytes.\n",
    "chisquare(df[, size])\tDraw samples from a chi-square distribution.\n",
    "choice(a[, size, replace, p])\tGenerates a random sample from a given 1-D array\n",
    "dirichlet(alpha[, size])\tDraw samples from the Dirichlet distribution.\n",
    "exponential([scale, size])\tDraw samples from an exponential distribution.\n",
    "f(dfnum, dfden[, size])\tDraw samples from an F distribution.\n",
    "gamma(shape[, scale, size])\tDraw samples from a Gamma distribution.\n",
    "geometric(p[, size])\tDraw samples from the geometric distribution.\n",
    "get_state()\tReturn a tuple representing the internal state of the generator.\n",
    "gumbel([loc, scale, size])\tDraw samples from a Gumbel distribution.\n",
    "hypergeometric(ngood, nbad, nsample[, size])\tDraw samples from a Hypergeometric distribution.\n",
    "laplace([loc, scale, size])\tDraw samples from the Laplace or double exponential distribution with specified location (or mean) and scale (decay).\n",
    "logistic([loc, scale, size])\tDraw samples from a logistic distribution.\n",
    "lognormal([mean, sigma, size])\tDraw samples from a log-normal distribution.\n",
    "logseries(p[, size])\tDraw samples from a logarithmic series distribution.\n",
    "multinomial(n, pvals[, size])\tDraw samples from a multinomial distribution.\n",
    "multivariate_normal(mean, cov[, size, …)\tDraw random samples from a multivariate normal distribution.\n",
    "negative_binomial(n, p[, size])\tDraw samples from a negative binomial distribution.\n",
    "noncentral_chisquare(df, nonc[, size])\tDraw samples from a noncentral chi-square distribution.\n",
    "noncentral_f(dfnum, dfden, nonc[, size])\tDraw samples from the noncentral F distribution.\n",
    "normal([loc, scale, size])\tDraw random samples from a normal (Gaussian) distribution.\n",
    "pareto(a[, size])\tDraw samples from a Pareto II or Lomax distribution with specified shape.\n",
    "permutation(x)\tRandomly permute a sequence, or return a permuted range.\n",
    "poisson([lam, size])\tDraw samples from a Poisson distribution.\n",
    "power(a[, size])\tDraws samples in [0, 1] from a power distribution with positive exponent a - 1.\n",
    "rand(d0, d1, …, dn)\tRandom values in a given shape.\n",
    "randint(low[, high, size, dtype])\tReturn random integers from low (inclusive) to high (exclusive).\n",
    "randn(d0, d1, …, dn)\tReturn a sample (or samples) from the “standard normal” distribution.\n",
    "random_integers(low[, high, size])\tRandom integers of type np.int between low and high, inclusive.\n",
    "random_sample([size])\tReturn random floats in the half-open interval [0.0, 1.0).\n",
    "rayleigh([scale, size])\tDraw samples from a Rayleigh distribution.\n",
    "seed([seed])\tSeed the generator.\n",
    "set_state(state)\tSet the internal state of the generator from a tuple.\n",
    "shuffle(x)\tModify a sequence in-place by shuffling its contents.\n",
    "standard_cauchy([size])\tDraw samples from a standard Cauchy distribution with mode = 0.\n",
    "standard_exponential([size])\tDraw samples from the standard exponential distribution.\n",
    "standard_gamma(shape[, size])\tDraw samples from a standard Gamma distribution.\n",
    "standard_normal([size])\tDraw samples from a standard Normal distribution (mean=0, stdev=1).\n",
    "standard_t(df[, size])\tDraw samples from a standard Student’s t distribution with df degrees of freedom.\n",
    "tomaxint([size])\tRandom integers between 0 and sys.maxint, inclusive.\n",
    "triangular(left, mode, right[, size])\tDraw samples from the triangular distribution over the interval [left, right].\n",
    "uniform([low, high, size])\tDraw samples from a uniform distribution.\n",
    "vonmises(mu, kappa[, size])\tDraw samples from a von Mises distribution.\n",
    "wald(mean, scale[, size])\tDraw samples from a Wald, or inverse Gaussian, distribution.\n",
    "weibull(a[, size])\tDraw samples from a Weibull distribution.\n",
    "zipf(a[, size])\tDraw samples from a Zipf distribution.\n",
    "Previous topic\n",
    "numpy.random.zipf\n",
    "\n",
    "Next topic\n",
    "numpy.random.RandomState.beta\n",
    "\n",
    "Quick search\n"
   ]
  },
  {
   "cell_type": "markdown",
   "metadata": {},
   "source": [
    "Seed the generator.\n",
    "\n",
    "This method is called when RandomState is initialized. It can be called again to re-seed the generator. For details, see RandomState.\n",
    "\n",
    "Parameters:\t\n",
    "seed : int or 1-d array_like, optional\n",
    "Seed for RandomState. Must be convertible to 32 bit unsigned integers.\n",
    "\n",
    "See also\n",
    "RandomState"
   ]
  },
  {
   "cell_type": "markdown",
   "metadata": {},
   "source": [
    "Return a tuple representing the internal state of the generator.\n",
    "\n",
    "For more details, see set_state.\n",
    "\n",
    "Returns:\t\n",
    "out : tuple(str, ndarray of 624 uints, int, int, float)\n",
    "The returned tuple has the following items:\n",
    "\n",
    "the string ‘MT19937’.\n",
    "a 1-D array of 624 unsigned integer keys.\n",
    "an integer pos.\n",
    "an integer has_gauss.\n",
    "a float cached_gaussian.\n",
    "See also\n",
    "set_state\n",
    "\n",
    "Notes\n",
    "\n",
    "set_state and get_state are not needed to work with any of the random distributions in NumPy. If the internal state is manually altered, the user should know exactly what he/she is doing."
   ]
  },
  {
   "cell_type": "markdown",
   "metadata": {},
   "source": [
    "Set the internal state of the generator from a tuple.\n",
    "\n",
    "For use if one has reason to manually (re-)set the internal state of the “Mersenne Twister”[1] pseudo-random number generating algorithm.\n",
    "\n",
    "Parameters:\t\n",
    "state : tuple(str, ndarray of 624 uints, int, int, float)\n",
    "The state tuple has the following items:\n",
    "\n",
    "the string ‘MT19937’, specifying the Mersenne Twister algorithm.\n",
    "a 1-D array of 624 unsigned integers keys.\n",
    "an integer pos.\n",
    "an integer has_gauss.\n",
    "a float cached_gaussian.\n",
    "Returns:\t\n",
    "out : None\n",
    "Returns ‘None’ on success.\n",
    "\n",
    "See also\n",
    "get_state\n",
    "\n",
    "Notes\n",
    "\n",
    "set_state and get_state are not needed to work with any of the random distributions in NumPy. If the internal state is manually altered, the user should know exactly what he/she is doing.\n",
    "\n",
    "For backwards compatibility, the form (str, array of 624 uints, int) is also accepted although it is missing some information about the cached Gaussian value: state = ('MT19937', keys, pos).\n",
    "\n",
    "References\n",
    "\n",
    "[1]\t(1, 2) M. Matsumoto and T. Nishimura, “Mersenne Twister: A 623-dimensionally equidistributed uniform pseudorandom number generator,” ACM Trans. on Modeling and Computer Simulation, Vol. 8, No. 1, pp. 3-30, Jan. 1998."
   ]
  },
  {
   "cell_type": "markdown",
   "metadata": {},
   "source": [
    "https://www.quora.com/What-is-seed-in-random-number-generation"
   ]
  },
  {
   "cell_type": "markdown",
   "metadata": {},
   "source": [
    "# References \n",
    "\n",
    "**[Wes McKinney - 10-minute tour of pandas](https://vimeo.com/59324550)**\n",
    "\n",
    "*[https://vimeo.com/59324550](https://vimeo.com/59324550)*\n",
    "\n",
    "A 10 minutes video introduction to pandas.\n",
    "\n",
    "***\n",
    "https://machinelearningmastery.com/how-to-generate-random-numbers-in-python/\n",
    "\n",
    "https://en.wikipedia.org/wiki/Mersenne_Twister\n",
    "\n",
    "stat trek\n",
    "\n",
    "https://stattrek.com/statistics/dictionary.aspx?definition=permutation\n",
    "\n",
    "layered statistics\n",
    "\n",
    "https://docs.scipy.org/doc/numpy-1.14.1/reference/routines.random.html\n",
    "\n",
    "https://www.packtpub.com/mapt/book/big_data_and_business_intelligence/9781785285110/2/ch02lvl1sec16/numpy-random-numbers\n",
    "\n",
    "https://stattrek.com/survey-research/simple-random-sampling.aspx\n",
    "\n",
    "https://stackoverflow.com/questions/47231852/np-random-rand-vs-np-random-random\n",
    "\n",
    "https://towardsdatascience.com/a-quick-introduction-to-the-numpy-library-6f61b7dee4db\n",
    "\n",
    "https://en.wikipedia.org/wiki/Simple_random_sample\n",
    "\n",
    "\n",
    "\n",
    "https://en.wikipedia.org/wiki/Random_seed\n",
    "\n",
    "https://www.quora.com/What-is-seed-in-random-number-generation\n"
   ]
  },
  {
   "cell_type": "markdown",
   "metadata": {},
   "source": [
    "# make sure you've covered these:\n",
    "\n",
    "explain numpy.random with plots and descriptive statistics, give less robotic description of numpy.random\n",
    "sub package of the numpy package in python\n",
    "\n",
    "\n",
    "\n",
    "\n",
    "numpy documentation, fundamental package for scientific computing - scipy.org starts with the random sampling page first simple random data page\n"
   ]
  }
 ],
 "metadata": {
  "kernelspec": {
   "display_name": "Python 3",
   "language": "python",
   "name": "python3"
  },
  "language_info": {
   "codemirror_mode": {
    "name": "ipython",
    "version": 3
   },
   "file_extension": ".py",
   "mimetype": "text/x-python",
   "name": "python",
   "nbconvert_exporter": "python",
   "pygments_lexer": "ipython3",
   "version": "3.7.0"
  }
 },
 "nbformat": 4,
 "nbformat_minor": 2
}
