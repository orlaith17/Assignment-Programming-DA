{
 "cells": [
  {
   "cell_type": "markdown",
   "metadata": {},
   "source": [
    "# 1. Explain numpy.random  \n",
    "explain numpy.random with plots and descriptive statistics, give less robotic description of numpy.random\n",
    "\n",
    "sub package of the numpy package in python\n",
    "\n",
    "really important package because alot of other packages depend on it but you don't interact normally with numpy directly\n",
    "\n",
    "about generating random numbers\n",
    "\n",
    "pseudorandom in that computers can't generate random numbers\n",
    "\n",
    "numpy documentation, fundamental package for scientific computing - scipy.org starts with the random sampling page first simple random data page\n"
   ]
  },
  {
   "cell_type": "markdown",
   "metadata": {},
   "source": [
    "NumPy random numbers\n",
    "An important part of any simulation is the ability to generate random numbers. For this purpose, NumPy provides various routines in the submodule random. It uses a particular algorithm, called the Mersenne Twister, to generate pseudorandom numbers.\n",
    "\n",
    "First, we need to define a seed that makes the random numbers predictable. When the value is reset, the same numbers will appear every time. If we do not assign the seed, NumPy automatically selects a random seed value based on the system's random number generator device or on the clock:\n",
    "\n"
   ]
  },
  {
   "cell_type": "markdown",
   "metadata": {},
   "source": [
    "![numpy graph](https://docs.scipy.org/doc/numpy-1.15.0/_images/numpy-random-normal-1.png)\n",
    "\n",
    "![numpy logo](https://cdn-images-1.medium.com/max/1600/1*mc5YIn7jvo5uwuqBOUDw7Q.jpeg)"
   ]
  },
  {
   "cell_type": "markdown",
   "metadata": {},
   "source": [
    "# 2. Purpose of Package\n",
    "\n",
    "NumPy random numbers An important part of any simulation is the ability to generate random numbers. For this purpose, NumPy provides various routines in the submodule random. It uses a particular algorithm, called the Mersenne Twister, to generate pseudorandom numbers.\n",
    "\n",
    "First, we need to define a seed that makes the random numbers predictable. When the value is reset, the same numbers will appear every time. If we do not assign the seed, NumPy automatically selects a random seed value based on the system's random number generator device or on the clock:"
   ]
  },
  {
   "cell_type": "markdown",
   "metadata": {},
   "source": [
    "In statistics, a simple random sample is a subset of individuals (a sample) chosen from a larger set (a population). Each individual is chosen randomly and entirely by chance, such that each individual has the same probability of being chosen at any stage during the sampling process, and each subset of k individuals has the same probability of being chosen for the sample as any other subset of k individuals.[1] This process and technique is known as simple random sampling, and should not be confused with systematic random sampling. A simple random sample is an unbiased surveying technique.\n",
    "\n",
    "Simple random sampling is a basic type of sampling, since it can be a component of other more complex sampling methods. The principle of simple random sampling is that every object has the same probability of being chosen. For example, suppose N college students want to get a ticket for a basketball game, but there are only X < N tickets for them, so they decide to have a fair way to see who gets to go. Then, everybody is given a number in the range from 0 to N-1, and random numbers are generated, either electronically or from a table of random numbers. Numbers outside the range from 0 to N-1 are ignored, as are any numbers previously selected. The first X numbers would identify the lucky ticket winners.\n",
    "\n",
    "In small populations and often in large ones, such sampling is typically done \"without replacement\", i.e., one deliberately avoids choosing any member of the population more than once. Although simple random sampling can be conducted with replacement instead, this is less common and would normally be described more fully as simple random sampling with replacement. Sampling done without replacement is no longer independent, but still satisfies exchangeability, hence many results still hold. Further, for a small sample from a large population, sampling without replacement is approximately the same as sampling with replacement, since the odds of choosing the same individual twice is low.\n",
    "\n",
    "An unbiased random selection of individuals is important so that if a large number of samples were drawn, the average sample would accurately represent the population. However, this does not guarantee that a particular sample is a perfect representation of the population. Simple random sampling merely allows one to draw externally valid conclusions about the entire population based on the sample.\n",
    "\n",
    "Conceptually, simple random sampling is the simplest of the probability sampling techniques. It requires a complete sampling frame, which may not be available or feasible to construct for large populations. Even if a complete frame is available, more efficient approaches may be possible if other useful information is available about the units in the population.\n",
    "\n",
    "Advantages are that it is free of classification error, and it requires minimum advance knowledge of the population other than the frame. Its simplicity also makes it relatively easy to interpret data collected in this manner. For these reasons, simple random sampling best suits situations where not much information is available about the population and data collection can be efficiently conducted on randomly distributed items, or where the cost of sampling is small enough to make efficiency less important than simplicity. If these conditions do not hold, stratified sampling or cluster sampling may be a better choice."
   ]
  },
  {
   "cell_type": "code",
   "execution_count": 22,
   "metadata": {},
   "outputs": [],
   "source": [
    "import numpy as np"
   ]
  },
  {
   "cell_type": "markdown",
   "metadata": {},
   "source": [
    "# 3. (i) Simple Random Data\n",
    "\n",
    "(standard and normal are generally the same so there is no need to go into great detail on both)\n"
   ]
  },
  {
   "cell_type": "code",
   "execution_count": 23,
   "metadata": {
    "scrolled": true
   },
   "outputs": [
    {
     "data": {
      "text/plain": [
       "array([[0.66603778, 0.85402801, 0.40664662],\n",
       "       [0.7683628 , 0.53203618, 0.15452708],\n",
       "       [0.62316453, 0.34577096, 0.83225335],\n",
       "       [0.12476326, 0.4612416 , 0.63861462]])"
      ]
     },
     "execution_count": 23,
     "metadata": {},
     "output_type": "execute_result"
    }
   ],
   "source": [
    "np.random.rand(4,3)\n",
    "\n",
    "# rand function is between [0, 1). [0 includes 0, 1) excludes 1"
   ]
  },
  {
   "cell_type": "code",
   "execution_count": 24,
   "metadata": {},
   "outputs": [
    {
     "data": {
      "text/plain": [
       "0.21231444569320657"
      ]
     },
     "execution_count": 24,
     "metadata": {},
     "output_type": "execute_result"
    }
   ],
   "source": [
    "np.random.rand()"
   ]
  },
  {
   "cell_type": "code",
   "execution_count": 25,
   "metadata": {},
   "outputs": [
    {
     "data": {
      "text/plain": [
       "array([0.33677035, 0.33833685, 0.83878003])"
      ]
     },
     "execution_count": 25,
     "metadata": {},
     "output_type": "execute_result"
    }
   ],
   "source": [
    "np.random.rand(3)"
   ]
  },
  {
   "cell_type": "code",
   "execution_count": 26,
   "metadata": {},
   "outputs": [
    {
     "data": {
      "text/plain": [
       "array([[[0.98665597, 0.07297343],\n",
       "        [0.24743438, 0.70118047],\n",
       "        [0.658685  , 0.79005978],\n",
       "        [0.65868393, 0.71403819],\n",
       "        [0.67095551, 0.61353905]],\n",
       "\n",
       "       [[0.06962499, 0.40133746],\n",
       "        [0.650051  , 0.75113786],\n",
       "        [0.22790308, 0.07732709],\n",
       "        [0.14488218, 0.99521122],\n",
       "        [0.09562331, 0.73269657]],\n",
       "\n",
       "       [[0.03384605, 0.17624627],\n",
       "        [0.72433757, 0.41592206],\n",
       "        [0.87329724, 0.57258268],\n",
       "        [0.35351081, 0.80071749],\n",
       "        [0.24449876, 0.05607569]]])"
      ]
     },
     "execution_count": 26,
     "metadata": {},
     "output_type": "execute_result"
    }
   ],
   "source": [
    "np.random.rand(3,5,2)"
   ]
  },
  {
   "cell_type": "code",
   "execution_count": 27,
   "metadata": {},
   "outputs": [],
   "source": [
    "% matplotlib inline\n",
    "\n",
    "import matplotlib.pyplot as plt"
   ]
  },
  {
   "cell_type": "code",
   "execution_count": 28,
   "metadata": {},
   "outputs": [
    {
     "data": {
      "text/plain": [
       "array([0.49842842, 0.81547513, 0.23446775, ..., 0.05340296, 0.82932553,\n",
       "       0.4470634 ])"
      ]
     },
     "execution_count": 28,
     "metadata": {},
     "output_type": "execute_result"
    }
   ],
   "source": [
    "x = np.random.rand(10000)\n",
    "x"
   ]
  },
  {
   "cell_type": "code",
   "execution_count": 29,
   "metadata": {},
   "outputs": [
    {
     "data": {
      "text/plain": [
       "(array([1011., 1059.,  944.,  983., 1014., 1029., 1013.,  925., 1032.,\n",
       "         990.]),\n",
       " array([5.52262673e-05, 1.00044214e-01, 2.00033202e-01, 3.00022189e-01,\n",
       "        4.00011177e-01, 5.00000165e-01, 5.99989153e-01, 6.99978140e-01,\n",
       "        7.99967128e-01, 8.99956116e-01, 9.99945104e-01]),\n",
       " <a list of 10 Patch objects>)"
      ]
     },
     "execution_count": 29,
     "metadata": {},
     "output_type": "execute_result"
    },
    {
     "data": {
      "image/png": "[encoded data removed]",
      "text/plain": [
       "<Figure size 432x288 with 1 Axes>"
      ]
     },
     "metadata": {
      "needs_background": "light"
     },
     "output_type": "display_data"
    }
   ],
   "source": [
    "plt.hist (x)"
   ]
  },
  {
   "cell_type": "code",
   "execution_count": 30,
   "metadata": {},
   "outputs": [
    {
     "data": {
      "text/plain": [
       "array([5.85039493, 6.9957937 , 7.59650166, 5.61556765, 5.17352171,\n",
       "       7.08920732, 7.57048399, 7.67540797, 6.13624479, 6.8804282 ])"
      ]
     },
     "execution_count": 30,
     "metadata": {},
     "output_type": "execute_result"
    }
   ],
   "source": [
    "# .rand gives you numbers from 0-1 whereas .uniform lets you define the numbers\n",
    "\n",
    "np.random.uniform(5,8,10)\n",
    "#lower number included, upper not...as above"
   ]
  },
  {
   "cell_type": "code",
   "execution_count": 31,
   "metadata": {},
   "outputs": [],
   "source": [
    "y = np.random.uniform(5,8,10)"
   ]
  },
  {
   "cell_type": "code",
   "execution_count": 32,
   "metadata": {},
   "outputs": [
    {
     "data": {
      "text/plain": [
       "(array([1., 1., 0., 0., 0., 1., 1., 3., 2., 1.]),\n",
       " array([5.0031742 , 5.19781181, 5.39244941, 5.58708702, 5.78172463,\n",
       "        5.97636223, 6.17099984, 6.36563744, 6.56027505, 6.75491265,\n",
       "        6.94955026]),\n",
       " <a list of 10 Patch objects>)"
      ]
     },
     "execution_count": 32,
     "metadata": {},
     "output_type": "execute_result"
    },
    {
     "data": {
      "image/png": "[encoded data removed]",
      "text/plain": [
       "<Figure size 432x288 with 1 Axes>"
      ]
     },
     "metadata": {
      "needs_background": "light"
     },
     "output_type": "display_data"
    }
   ],
   "source": [
    "plt.hist (y)"
   ]
  },
  {
   "cell_type": "code",
   "execution_count": 33,
   "metadata": {},
   "outputs": [],
   "source": [
    "z = np.random.normal(500, 100, 10000)"
   ]
  },
  {
   "cell_type": "code",
   "execution_count": 34,
   "metadata": {},
   "outputs": [
    {
     "data": {
      "text/plain": [
       "(array([2.000e+00, 6.100e+01, 5.060e+02, 1.883e+03, 3.320e+03, 2.769e+03,\n",
       "        1.198e+03, 2.350e+02, 2.400e+01, 2.000e+00]),\n",
       " array([ 78.88303238, 166.78779179, 254.6925512 , 342.5973106 ,\n",
       "        430.50207001, 518.40682942, 606.31158882, 694.21634823,\n",
       "        782.12110764, 870.02586704, 957.93062645]),\n",
       " <a list of 10 Patch objects>)"
      ]
     },
     "execution_count": 34,
     "metadata": {},
     "output_type": "execute_result"
    },
    {
     "data": {
      "image/png": "[encoded data removed]",
      "text/plain": [
       "<Figure size 432x288 with 1 Axes>"
      ]
     },
     "metadata": {
      "needs_background": "light"
     },
     "output_type": "display_data"
    }
   ],
   "source": [
    "plt.hist (z)"
   ]
  },
  {
   "cell_type": "markdown",
   "metadata": {},
   "source": [
    "# 3. (ii) Permutations\n",
    "\n",
    "has only two functions"
   ]
  },
  {
   "cell_type": "code",
   "execution_count": 37,
   "metadata": {},
   "outputs": [
    {
     "data": {
      "text/plain": [
       "array([6, 7, 9, 4, 2, 1, 5, 8, 3, 0])"
      ]
     },
     "execution_count": 37,
     "metadata": {},
     "output_type": "execute_result"
    }
   ],
   "source": [
    "# shuffle(x)\n",
    "# \tModify a sequence in-place by shuffling its contents.\n",
    "\n",
    "arr = np.arange(10)\n",
    "np.random.shuffle(arr)\n",
    "arr\n"
   ]
  },
  {
   "cell_type": "code",
   "execution_count": 39,
   "metadata": {},
   "outputs": [
    {
     "data": {
      "text/plain": [
       "array([8, 6, 3, 4, 7, 5, 1, 2, 0, 9])"
      ]
     },
     "execution_count": 39,
     "metadata": {},
     "output_type": "execute_result"
    }
   ],
   "source": [
    "# permutation(x)\tRandomly permute a sequence, or return a permuted range.\n",
    "\n",
    "np.random.permutation(10)\n"
   ]
  },
  {
   "cell_type": "markdown",
   "metadata": {},
   "source": [
    "# 4. Use and purpose of distributions \n",
    "\n",
    "(also called main probability distributions) pick 3 or 4 and explain how they relate to each other"
   ]
  },
  {
   "cell_type": "markdown",
   "metadata": {},
   "source": [
    "# 5. Use of Seeds in Generating Pseudorandom Numbers"
   ]
  },
  {
   "cell_type": "markdown",
   "metadata": {},
   "source": [
    "# References \n",
    "stat trek, \n",
    "layered statistics, \n",
    "https://docs.scipy.org/doc/numpy-1.14.1/reference/routines.random.html,\n",
    "https://www.packtpub.com/mapt/book/big_data_and_business_intelligence/9781785285110/2/ch02lvl1sec16/numpy-random-numbers, \n",
    "https://stattrek.com/survey-research/simple-random-sampling.aspx, \n",
    "https://stackoverflow.com/questions/47231852/np-random-rand-vs-np-random-random\n",
    "\n",
    "https://towardsdatascience.com/a-quick-introduction-to-the-numpy-library-6f61b7dee4db\n",
    "https://en.wikipedia.org/wiki/Simple_random_sample"
   ]
  },
  {
   "cell_type": "code",
   "execution_count": null,
   "metadata": {},
   "outputs": [],
   "source": []
  }
 ],
 "metadata": {
  "kernelspec": {
   "display_name": "Python 3",
   "language": "python",
   "name": "python3"
  },
  "language_info": {
   "codemirror_mode": {
    "name": "ipython",
    "version": 3
   },
   "file_extension": ".py",
   "mimetype": "text/x-python",
   "name": "python",
   "nbconvert_exporter": "python",
   "pygments_lexer": "ipython3",
   "version": "3.7.0"
  }
 },
 "nbformat": 4,
 "nbformat_minor": 2
}
