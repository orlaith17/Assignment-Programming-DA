{
 "cells": [
  {
   "cell_type": "markdown",
   "metadata": {},
   "source": [
    "# 1. Explain numpy.random  \n",
    "explain numpy.random with plots and descriptive statistics, give less robotic description of numpy.random\n",
    "\n",
    "sub package of the numpy package in python\n",
    "\n",
    "really important package because alot of other packages depend on it but you don't interact normally with numpy directly\n",
    "\n",
    "about generating random numbers\n",
    "\n",
    "pseudorandom in that computers can't generate random numbers\n",
    "\n",
    "numpy documentation, fundamental package for scientific computing - scipy.org starts with the random sampling page first simple random data page\n"
   ]
  },
  {
   "cell_type": "markdown",
   "metadata": {},
   "source": [
    "NumPy random numbers\n",
    "An important part of any simulation is the ability to generate random numbers. For this purpose, NumPy provides various routines in the submodule random. It uses a particular algorithm, called the Mersenne Twister, to generate pseudorandom numbers.\n",
    "\n",
    "First, we need to define a seed that makes the random numbers predictable. When the value is reset, the same numbers will appear every time. If we do not assign the seed, NumPy automatically selects a random seed value based on the system's random number generator device or on the clock:\n",
    "\n"
   ]
  },
  {
   "cell_type": "markdown",
   "metadata": {},
   "source": [
    "![numpy graph](https://docs.scipy.org/doc/numpy-1.15.0/_images/numpy-random-normal-1.png)\n",
    "\n",
    "![numpy logo](https://cdn-images-1.medium.com/max/1600/1*mc5YIn7jvo5uwuqBOUDw7Q.jpeg)"
   ]
  },
  {
   "cell_type": "markdown",
   "metadata": {},
   "source": [
    "# 2. Purpose of Package\n",
    "\n",
    "NumPy random numbers An important part of any simulation is the ability to generate random numbers. For this purpose, NumPy provides various routines in the submodule random. It uses a particular algorithm, called the Mersenne Twister, to generate pseudorandom numbers.\n",
    "\n",
    "First, we need to define a seed that makes the random numbers predictable. When the value is reset, the same numbers will appear every time. If we do not assign the seed, NumPy automatically selects a random seed value based on the system's random number generator device or on the clock:"
   ]
  },
  {
   "cell_type": "markdown",
   "metadata": {},
   "source": [
    "In statistics, a simple random sample is a subset of individuals (a sample) chosen from a larger set (a population). Each individual is chosen randomly and entirely by chance, such that each individual has the same probability of being chosen at any stage during the sampling process, and each subset of k individuals has the same probability of being chosen for the sample as any other subset of k individuals.[1] This process and technique is known as simple random sampling, and should not be confused with systematic random sampling. A simple random sample is an unbiased surveying technique.\n",
    "\n",
    "Simple random sampling is a basic type of sampling, since it can be a component of other more complex sampling methods. The principle of simple random sampling is that every object has the same probability of being chosen. For example, suppose N college students want to get a ticket for a basketball game, but there are only X < N tickets for them, so they decide to have a fair way to see who gets to go. Then, everybody is given a number in the range from 0 to N-1, and random numbers are generated, either electronically or from a table of random numbers. Numbers outside the range from 0 to N-1 are ignored, as are any numbers previously selected. The first X numbers would identify the lucky ticket winners.\n",
    "\n",
    "In small populations and often in large ones, such sampling is typically done \"without replacement\", i.e., one deliberately avoids choosing any member of the population more than once. Although simple random sampling can be conducted with replacement instead, this is less common and would normally be described more fully as simple random sampling with replacement. Sampling done without replacement is no longer independent, but still satisfies exchangeability, hence many results still hold. Further, for a small sample from a large population, sampling without replacement is approximately the same as sampling with replacement, since the odds of choosing the same individual twice is low.\n",
    "\n",
    "An unbiased random selection of individuals is important so that if a large number of samples were drawn, the average sample would accurately represent the population. However, this does not guarantee that a particular sample is a perfect representation of the population. Simple random sampling merely allows one to draw externally valid conclusions about the entire population based on the sample.\n",
    "\n",
    "Conceptually, simple random sampling is the simplest of the probability sampling techniques. It requires a complete sampling frame, which may not be available or feasible to construct for large populations. Even if a complete frame is available, more efficient approaches may be possible if other useful information is available about the units in the population.\n",
    "\n",
    "Advantages are that it is free of classification error, and it requires minimum advance knowledge of the population other than the frame. Its simplicity also makes it relatively easy to interpret data collected in this manner. For these reasons, simple random sampling best suits situations where not much information is available about the population and data collection can be efficiently conducted on randomly distributed items, or where the cost of sampling is small enough to make efficiency less important than simplicity. If these conditions do not hold, stratified sampling or cluster sampling may be a better choice."
   ]
  },
  {
   "cell_type": "code",
   "execution_count": 19,
   "metadata": {},
   "outputs": [],
   "source": [
    "import numpy as np"
   ]
  },
  {
   "cell_type": "markdown",
   "metadata": {},
   "source": [
    "# 3. (i) Simple Random Data\n",
    "\n",
    "(standard and normal are generally the same so there is no need to go into great detail on both)\n"
   ]
  },
  {
   "cell_type": "code",
   "execution_count": 20,
   "metadata": {
    "scrolled": true
   },
   "outputs": [
    {
     "data": {
      "text/plain": [
       "array([[0.87131144, 0.32557717, 0.56064993],\n",
       "       [0.75041385, 0.43875892, 0.99002371],\n",
       "       [0.61918927, 0.79397777, 0.84193326],\n",
       "       [0.44310476, 0.59255296, 0.15380595]])"
      ]
     },
     "execution_count": 20,
     "metadata": {},
     "output_type": "execute_result"
    }
   ],
   "source": [
    "np.random.rand(4,3)\n",
    "\n",
    "# rand function is between [0, 1). [0 includes 0, 1) excludes 1"
   ]
  },
  {
   "cell_type": "code",
   "execution_count": 21,
   "metadata": {},
   "outputs": [
    {
     "data": {
      "text/plain": [
       "0.665308104287538"
      ]
     },
     "execution_count": 21,
     "metadata": {},
     "output_type": "execute_result"
    }
   ],
   "source": [
    "np.random.rand()"
   ]
  },
  {
   "cell_type": "code",
   "execution_count": 22,
   "metadata": {},
   "outputs": [
    {
     "data": {
      "text/plain": [
       "array([0.96171505, 0.94465216, 0.58532562])"
      ]
     },
     "execution_count": 22,
     "metadata": {},
     "output_type": "execute_result"
    }
   ],
   "source": [
    "np.random.rand(3)"
   ]
  },
  {
   "cell_type": "code",
   "execution_count": 23,
   "metadata": {},
   "outputs": [
    {
     "data": {
      "text/plain": [
       "array([[[0.25201402, 0.76373706],\n",
       "        [0.93938709, 0.13929759],\n",
       "        [0.06046085, 0.10251011],\n",
       "        [0.94221818, 0.84605119],\n",
       "        [0.85095937, 0.27248316]],\n",
       "\n",
       "       [[0.56772652, 0.59771991],\n",
       "        [0.77794738, 0.08857896],\n",
       "        [0.90039244, 0.28551658],\n",
       "        [0.1917239 , 0.29054248],\n",
       "        [0.50412054, 0.97578923]],\n",
       "\n",
       "       [[0.51089894, 0.78779601],\n",
       "        [0.46106815, 0.73817049],\n",
       "        [0.11005134, 0.72671892],\n",
       "        [0.53076471, 0.56135384],\n",
       "        [0.4169751 , 0.6532036 ]]])"
      ]
     },
     "execution_count": 23,
     "metadata": {},
     "output_type": "execute_result"
    }
   ],
   "source": [
    "np.random.rand(3,5,2)"
   ]
  },
  {
   "cell_type": "code",
   "execution_count": 24,
   "metadata": {},
   "outputs": [],
   "source": [
    "% matplotlib inline\n",
    "\n",
    "import matplotlib.pyplot as plt"
   ]
  },
  {
   "cell_type": "code",
   "execution_count": 25,
   "metadata": {},
   "outputs": [
    {
     "data": {
      "text/plain": [
       "array([0.95405595, 0.15108329, 0.05077172, ..., 0.41297644, 0.82551945,\n",
       "       0.30374305])"
      ]
     },
     "execution_count": 25,
     "metadata": {},
     "output_type": "execute_result"
    }
   ],
   "source": [
    "x = np.random.rand(10000)\n",
    "x"
   ]
  },
  {
   "cell_type": "code",
   "execution_count": 26,
   "metadata": {},
   "outputs": [
    {
     "data": {
      "text/plain": [
       "(array([1018., 1029., 1029., 1009.,  998., 1002., 1006.,  960.,  963.,\n",
       "         986.]),\n",
       " array([1.03211144e-04, 1.00089157e-01, 2.00075103e-01, 3.00061049e-01,\n",
       "        4.00046995e-01, 5.00032941e-01, 6.00018888e-01, 7.00004834e-01,\n",
       "        7.99990780e-01, 8.99976726e-01, 9.99962672e-01]),\n",
       " <a list of 10 Patch objects>)"
      ]
     },
     "execution_count": 26,
     "metadata": {},
     "output_type": "execute_result"
    },
    {
     "data": {
      "image/png": "[encoded data removed]",
      "text/plain": [
       "<Figure size 432x288 with 1 Axes>"
      ]
     },
     "metadata": {
      "needs_background": "light"
     },
     "output_type": "display_data"
    }
   ],
   "source": [
    "plt.hist (x)"
   ]
  },
  {
   "cell_type": "code",
   "execution_count": 27,
   "metadata": {},
   "outputs": [
    {
     "data": {
      "text/plain": [
       "array([5.47541119, 6.84274353, 7.05817163, 6.41722114, 7.64205364,\n",
       "       6.73623371, 6.66136116, 5.3118087 , 7.57504001, 5.18517546])"
      ]
     },
     "execution_count": 27,
     "metadata": {},
     "output_type": "execute_result"
    }
   ],
   "source": [
    "# .rand gives you numbers from 0-1 whereas .uniform lets you define the numbers\n",
    "\n",
    "np.random.uniform(5,8,10)\n",
    "#lower number included, upper not...as above"
   ]
  },
  {
   "cell_type": "code",
   "execution_count": 28,
   "metadata": {},
   "outputs": [],
   "source": [
    "y = np.random.uniform(5,8,10)"
   ]
  },
  {
   "cell_type": "code",
   "execution_count": 29,
   "metadata": {},
   "outputs": [
    {
     "data": {
      "text/plain": [
       "(array([2., 1., 0., 1., 1., 1., 0., 2., 1., 1.]),\n",
       " array([5.11750791, 5.37625391, 5.6349999 , 5.8937459 , 6.15249189,\n",
       "        6.41123789, 6.66998389, 6.92872988, 7.18747588, 7.44622187,\n",
       "        7.70496787]),\n",
       " <a list of 10 Patch objects>)"
      ]
     },
     "execution_count": 29,
     "metadata": {},
     "output_type": "execute_result"
    },
    {
     "data": {
      "image/png": "[encoded data removed]",
      "text/plain": [
       "<Figure size 432x288 with 1 Axes>"
      ]
     },
     "metadata": {
      "needs_background": "light"
     },
     "output_type": "display_data"
    }
   ],
   "source": [
    "plt.hist (y)"
   ]
  },
  {
   "cell_type": "code",
   "execution_count": 30,
   "metadata": {},
   "outputs": [],
   "source": [
    "z = np.random.normal(500, 100, 10000)"
   ]
  },
  {
   "cell_type": "code",
   "execution_count": 31,
   "metadata": {},
   "outputs": [
    {
     "data": {
      "text/plain": [
       "(array([  19.,  132.,  660., 1752., 2933., 2667., 1312.,  447.,   69.,\n",
       "           9.]), array([132.83429313, 208.61914751, 284.40400189, 360.18885627,\n",
       "        435.97371066, 511.75856504, 587.54341942, 663.32827381,\n",
       "        739.11312819, 814.89798257, 890.68283695]), <a list of 10 Patch objects>)"
      ]
     },
     "execution_count": 31,
     "metadata": {},
     "output_type": "execute_result"
    },
    {
     "data": {
      "image/png": "[encoded data removed]",
      "text/plain": [
       "<Figure size 432x288 with 1 Axes>"
      ]
     },
     "metadata": {
      "needs_background": "light"
     },
     "output_type": "display_data"
    }
   ],
   "source": [
    "plt.hist (z)"
   ]
  },
  {
   "cell_type": "markdown",
   "metadata": {},
   "source": [
    "# 3. (ii) Permutations\n",
    "\n",
    "has only two functions"
   ]
  },
  {
   "cell_type": "code",
   "execution_count": 32,
   "metadata": {},
   "outputs": [
    {
     "data": {
      "text/plain": [
       "array([1, 9, 4, 8, 6, 5, 3, 2, 7, 0])"
      ]
     },
     "execution_count": 32,
     "metadata": {},
     "output_type": "execute_result"
    }
   ],
   "source": [
    "# shuffle(x)\n",
    "# \tModify a sequence in-place by shuffling its contents.\n",
    "\n",
    "arr = np.arange(10)\n",
    "np.random.shuffle(arr)\n",
    "arr\n"
   ]
  },
  {
   "cell_type": "code",
   "execution_count": 33,
   "metadata": {},
   "outputs": [
    {
     "data": {
      "text/plain": [
       "array([7, 5, 3, 6, 9, 8, 0, 1, 4, 2])"
      ]
     },
     "execution_count": 33,
     "metadata": {},
     "output_type": "execute_result"
    }
   ],
   "source": [
    "# permutation(x)\tRandomly permute a sequence, or return a permuted range.\n",
    "\n",
    "np.random.permutation(10)\n"
   ]
  },
  {
   "cell_type": "markdown",
   "metadata": {},
   "source": [
    "# 4. Use and purpose of distributions \n",
    "\n",
    "(also called main probability distributions) pick 3 or 4 and explain how they relate to each other"
   ]
  },
  {
   "cell_type": "markdown",
   "metadata": {},
   "source": [
    "![main probability distributions](http://blog.cloudera.com/wp-content/uploads/2015/12/distribution.png)"
   ]
  },
  {
   "cell_type": "markdown",
   "metadata": {},
   "source": [
    "## geometric\n",
    "\n",
    "![geometric distributions](https://www.mql5.com/en/docs/img/demogeometricdistribution.png)\n",
    "\n",
    "Draw samples from the geometric distribution.\n",
    "\n",
    "Bernoulli trials are experiments with one of two outcomes: success or failure (an example of such an experiment is flipping a coin). The geometric distribution models the number of trials that must be run in order to achieve success. It is therefore supported on the positive integers, k = 1, 2, ....\n",
    "\n",
    "The probability mass function of the geometric distribution is\n",
    "\n",
    "f(k) = (1 - p)^{k - 1} p\n",
    "\n",
    "where p is the probability of success of an individual trial.\n",
    "\n",
    "Parameters:\t\n",
    "p : float or array_like of floats\n",
    "The probability of success of an individual trial.\n",
    "\n",
    "size : int or tuple of ints, optional\n",
    "Output shape. If the given shape is, e.g., (m, n, k), then m * n * k samples are drawn. If size is None (default), a single value is returned if p is a scalar. Otherwise, np.array(p).size samples are drawn.\n",
    "\n",
    "Returns:\t\n",
    "out : ndarray or scalar\n",
    "Drawn samples from the parameterized geometric distribution.\n",
    "\n",
    "Examples\n",
    "\n",
    "Draw ten thousand values from the geometric distribution, with the probability of an individual success equal to 0.35:\n",
    "\n",
    ">>>\n",
    ">>> z = np.random.geometric(p=0.35, size=10000)\n",
    "How many trials succeeded after a single run?\n",
    "\n",
    ">>>\n",
    ">>> (z == 1).sum() / 10000.\n",
    "0.34889999999999999 #random"
   ]
  },
  {
   "cell_type": "markdown",
   "metadata": {},
   "source": [
    "## exponential\n",
    "\n",
    "Draw samples from an exponential distribution.\n",
    "\n",
    "Its probability density function is\n",
    "\n",
    "f(x; \\frac{1}{\\beta}) = \\frac{1}{\\beta} \\exp(-\\frac{x}{\\beta}),\n",
    "\n",
    "for x > 0 and 0 elsewhere. \\beta is the scale parameter, which is the inverse of the rate parameter \\lambda = 1/\\beta. The rate parameter is an alternative, widely used parameterization of the exponential distribution [3].\n",
    "\n",
    "The exponential distribution is a continuous analogue of the geometric distribution. It describes many common situations, such as the size of raindrops measured over many rainstorms [1], or the time between page requests to Wikipedia [2].\n",
    "\n",
    "Parameters:\t\n",
    "scale : float or array_like of floats\n",
    "The scale parameter, \\beta = 1/\\lambda.\n",
    "\n",
    "size : int or tuple of ints, optional\n",
    "Output shape. If the given shape is, e.g., (m, n, k), then m * n * k samples are drawn. If size is None (default), a single value is returned if scale is a scalar. Otherwise, np.array(scale).size samples are drawn.\n",
    "\n",
    "Returns:\t\n",
    "out : ndarray or scalar\n",
    "Drawn samples from the parameterized exponential distribution."
   ]
  },
  {
   "cell_type": "markdown",
   "metadata": {},
   "source": [
    "## poisson\n",
    "\n",
    "Draw samples from a Poisson distribution.\n",
    "\n",
    "The Poisson distribution is the limit of the binomial distribution for large N.\n",
    "\n",
    "Parameters:\t\n",
    "lam : float or array_like of floats\n",
    "Expectation of interval, should be >= 0. A sequence of expectation intervals must be broadcastable over the requested size.\n",
    "\n",
    "size : int or tuple of ints, optional\n",
    "Output shape. If the given shape is, e.g., (m, n, k), then m * n * k samples are drawn. If size is None (default), a single value is returned if lam is a scalar. Otherwise, np.array(lam).size samples are drawn.\n",
    "\n",
    "Returns:\t\n",
    "out : ndarray or scalar\n",
    "Drawn samples from the parameterized Poisson distribution.\n",
    "\n",
    "Notes\n",
    "\n",
    "The Poisson distribution\n",
    "\n",
    "f(k; \\lambda)=\\frac{\\lambda^k e^{-\\lambda}}{k!}\n",
    "\n",
    "For events with an expected separation \\lambda the Poisson distribution f(k; \\lambda) describes the probability of k events occurring within the observed interval \\lambda.\n",
    "\n",
    "Because the output is limited to the range of the C long type, a ValueError is raised when lam is within 10 sigma of the maximum representable value.\n",
    "\n",
    "References\n",
    "\n",
    "[1]\tWeisstein, Eric W. “Poisson Distribution.” From MathWorld–A Wolfram Web Resource. http://mathworld.wolfram.com/PoissonDistribution.html\n",
    "[2]\tWikipedia, “Poisson distribution”, http://en.wikipedia.org/wiki/Poisson_distribution\n",
    "Examples\n",
    "\n",
    "Draw samples from the distribution:\n",
    "\n",
    ">>>\n",
    ">>> import numpy as np\n",
    ">>> s = np.random.poisson(5, 10000)\n",
    "Display histogram of the sample:\n",
    "\n",
    ">>>\n",
    ">>> import matplotlib.pyplot as plt\n",
    ">>> count, bins, ignored = plt.hist(s, 14, density=True)\n",
    ">>> plt.show()\n",
    "../../_images/numpy-random-poisson-1_00_00.png\n",
    "Draw each 100 values for lambda 100 and 500:\n",
    "\n",
    ">>>\n",
    ">>> s = np.random.poisson(lam=(100., 500.), size=(100, 2))"
   ]
  },
  {
   "cell_type": "markdown",
   "metadata": {},
   "source": [
    "## normal (gaussian)\n",
    "\n",
    "Draw random samples from a normal (Gaussian) distribution.\n",
    "\n",
    "The probability density function of the normal distribution, first derived by De Moivre and 200 years later by both Gauss and Laplace independently [2], is often called the bell curve because of its characteristic shape (see the example below).\n",
    "\n",
    "The normal distributions occurs often in nature. For example, it describes the commonly occurring distribution of samples influenced by a large number of tiny, random disturbances, each with its own unique distribution [2].\n",
    "\n",
    "Parameters:\t\n",
    "loc : float or array_like of floats\n",
    "Mean (“centre”) of the distribution.\n",
    "\n",
    "scale : float or array_like of floats\n",
    "Standard deviation (spread or “width”) of the distribution.\n",
    "\n",
    "size : int or tuple of ints, optional\n",
    "Output shape. If the given shape is, e.g., (m, n, k), then m * n * k samples are drawn. If size is None (default), a single value is returned if loc and scale are both scalars. Otherwise, np.broadcast(loc, scale).size samples are drawn.\n",
    "\n",
    "Returns:\t\n",
    "out : ndarray or scalar\n",
    "Drawn samples from the parameterized normal distribution.\n",
    "\n",
    "See also\n",
    "scipy.stats.norm\n",
    "probability density function, distribution or cumulative density function, etc.\n",
    "Notes\n",
    "\n",
    "The probability density for the Gaussian distribution is\n",
    "\n",
    "p(x) = \\frac{1}{\\sqrt{ 2 \\pi \\sigma^2 }}\n",
    "e^{ - \\frac{ (x - \\mu)^2 } {2 \\sigma^2} },\n",
    "\n",
    "where \\mu is the mean and \\sigma the standard deviation. The square of the standard deviation, \\sigma^2, is called the variance.\n",
    "\n",
    "The function has its peak at the mean, and its “spread” increases with the standard deviation (the function reaches 0.607 times its maximum at x + \\sigma and x - \\sigma [2]). This implies that numpy.random.normal is more likely to return samples lying close to the mean, rather than those far away.\n",
    "\n",
    "References\n",
    "\n",
    "[1]\tWikipedia, “Normal distribution”, http://en.wikipedia.org/wiki/Normal_distribution\n",
    "[2]\t(1, 2, 3, 4) P. R. Peebles Jr., “Central Limit Theorem” in “Probability, Random Variables and Random Signal Principles”, 4th ed., 2001, pp. 51, 51, 125.\n",
    "Examples\n",
    "\n",
    "Draw samples from the distribution:\n",
    "\n",
    ">>>\n",
    ">>> mu, sigma = 0, 0.1 # mean and standard deviation\n",
    ">>> s = np.random.normal(mu, sigma, 1000)\n",
    "Verify the mean and the variance:\n",
    "\n",
    ">>>\n",
    ">>> abs(mu - np.mean(s)) < 0.01\n",
    "True\n",
    ">>>\n",
    ">>> abs(sigma - np.std(s, ddof=1)) < 0.01\n",
    "True\n",
    "Display the histogram of the samples, along with the probability density function:\n",
    "\n",
    ">>>\n",
    ">>> import matplotlib.pyplot as plt\n",
    ">>> count, bins, ignored = plt.hist(s, 30, density=True)\n",
    ">>> plt.plot(bins, 1/(sigma * np.sqrt(2 * np.pi)) *\n",
    "...                np.exp( - (bins - mu)**2 / (2 * sigma**2) ),\n",
    "...          linewidth=2, color='r')\n",
    ">>> plt.show()\n",
    "../../_images/numpy-random-normal-1.png"
   ]
  },
  {
   "cell_type": "markdown",
   "metadata": {},
   "source": [
    "# 5. Use of Seeds in Generating Pseudorandom Numbers\n",
    "\n",
    "A random seed (or seed state, or just seed) is a number (or vector) used to initialize a pseudorandom number generator.\n",
    "\n",
    "For a seed to be used in a pseudorandom number generator, it does not need to be random. Because of the nature of number generating algorithms, so long as the original seed is ignored, the rest of the values that the algorithm generates will follow probability distribution in a pseudorandom manner.\n",
    "\n",
    "The choice of a good random seed is crucial in the field of computer security. When a secret encryption key is pseudorandomly generated, having the seed will allow one to obtain the key. High entropy is important for selecting good random seed data.[1]\n",
    "\n",
    "If the same random seed is deliberately shared, it becomes a secret key, so two or more systems using matching pseudorandom number algorithms and matching seeds can generate matching sequences of non-repeating numbers which can be used to synchronize remote systems, such as GPS satellites and receivers.\n",
    "\n",
    "Random seeds are often generated from the state of the computer system (such as the time), a cryptographically secure pseudorandom number generator or from a hardware random number generator.\n",
    "\n",
    "Container for the Mersenne Twister pseudo-random number generator.\n",
    "\n",
    "RandomState exposes a number of methods for generating random numbers drawn from a variety of probability distributions. In addition to the distribution-specific arguments, each method takes a keyword argument size that defaults to None. If size is None, then a single value is generated and returned. If size is an integer, then a 1-D array filled with generated values is returned. If size is a tuple, then an array with that shape is filled and returned.\n",
    "\n",
    "Compatibility Guarantee A fixed seed and a fixed series of calls to ‘RandomState’ methods using the same parameters will always produce the same results up to roundoff error except when the values were incorrect. Incorrect values will be fixed and the NumPy version in which the fix was made will be noted in the relevant docstring. Extension of existing parameter ranges and the addition of new parameters is allowed as long the previous behavior remains unchanged.\n",
    "\n",
    "Parameters:\t\n",
    "seed : {None, int, array_like}, optional\n",
    "Random seed used to initialize the pseudo-random number generator. Can be any integer between 0 and 2**32 - 1 inclusive, an array (or other sequence) of such integers, or None (the default). If seed is None, then RandomState will try to read data from /dev/urandom (or the Windows analogue) if available or seed from the clock otherwise.\n",
    "\n",
    "Notes\n",
    "\n",
    "The Python stdlib module “random” also contains a Mersenne Twister pseudo-random number generator with a number of methods that are similar to the ones available in RandomState. RandomState, besides being NumPy-aware, has the advantage that it provides a much larger number of probability distributions to choose from.\n",
    "\n",
    "Methods\n",
    "\n",
    "beta(a, b[, size])\tDraw samples from a Beta distribution.\n",
    "binomial(n, p[, size])\tDraw samples from a binomial distribution.\n",
    "bytes(length)\tReturn random bytes.\n",
    "chisquare(df[, size])\tDraw samples from a chi-square distribution.\n",
    "choice(a[, size, replace, p])\tGenerates a random sample from a given 1-D array\n",
    "dirichlet(alpha[, size])\tDraw samples from the Dirichlet distribution.\n",
    "exponential([scale, size])\tDraw samples from an exponential distribution.\n",
    "f(dfnum, dfden[, size])\tDraw samples from an F distribution.\n",
    "gamma(shape[, scale, size])\tDraw samples from a Gamma distribution.\n",
    "geometric(p[, size])\tDraw samples from the geometric distribution.\n",
    "get_state()\tReturn a tuple representing the internal state of the generator.\n",
    "gumbel([loc, scale, size])\tDraw samples from a Gumbel distribution.\n",
    "hypergeometric(ngood, nbad, nsample[, size])\tDraw samples from a Hypergeometric distribution.\n",
    "laplace([loc, scale, size])\tDraw samples from the Laplace or double exponential distribution with specified location (or mean) and scale (decay).\n",
    "logistic([loc, scale, size])\tDraw samples from a logistic distribution.\n",
    "lognormal([mean, sigma, size])\tDraw samples from a log-normal distribution.\n",
    "logseries(p[, size])\tDraw samples from a logarithmic series distribution.\n",
    "multinomial(n, pvals[, size])\tDraw samples from a multinomial distribution.\n",
    "multivariate_normal(mean, cov[, size, …)\tDraw random samples from a multivariate normal distribution.\n",
    "negative_binomial(n, p[, size])\tDraw samples from a negative binomial distribution.\n",
    "noncentral_chisquare(df, nonc[, size])\tDraw samples from a noncentral chi-square distribution.\n",
    "noncentral_f(dfnum, dfden, nonc[, size])\tDraw samples from the noncentral F distribution.\n",
    "normal([loc, scale, size])\tDraw random samples from a normal (Gaussian) distribution.\n",
    "pareto(a[, size])\tDraw samples from a Pareto II or Lomax distribution with specified shape.\n",
    "permutation(x)\tRandomly permute a sequence, or return a permuted range.\n",
    "poisson([lam, size])\tDraw samples from a Poisson distribution.\n",
    "power(a[, size])\tDraws samples in [0, 1] from a power distribution with positive exponent a - 1.\n",
    "rand(d0, d1, …, dn)\tRandom values in a given shape.\n",
    "randint(low[, high, size, dtype])\tReturn random integers from low (inclusive) to high (exclusive).\n",
    "randn(d0, d1, …, dn)\tReturn a sample (or samples) from the “standard normal” distribution.\n",
    "random_integers(low[, high, size])\tRandom integers of type np.int between low and high, inclusive.\n",
    "random_sample([size])\tReturn random floats in the half-open interval [0.0, 1.0).\n",
    "rayleigh([scale, size])\tDraw samples from a Rayleigh distribution.\n",
    "seed([seed])\tSeed the generator.\n",
    "set_state(state)\tSet the internal state of the generator from a tuple.\n",
    "shuffle(x)\tModify a sequence in-place by shuffling its contents.\n",
    "standard_cauchy([size])\tDraw samples from a standard Cauchy distribution with mode = 0.\n",
    "standard_exponential([size])\tDraw samples from the standard exponential distribution.\n",
    "standard_gamma(shape[, size])\tDraw samples from a standard Gamma distribution.\n",
    "standard_normal([size])\tDraw samples from a standard Normal distribution (mean=0, stdev=1).\n",
    "standard_t(df[, size])\tDraw samples from a standard Student’s t distribution with df degrees of freedom.\n",
    "tomaxint([size])\tRandom integers between 0 and sys.maxint, inclusive.\n",
    "triangular(left, mode, right[, size])\tDraw samples from the triangular distribution over the interval [left, right].\n",
    "uniform([low, high, size])\tDraw samples from a uniform distribution.\n",
    "vonmises(mu, kappa[, size])\tDraw samples from a von Mises distribution.\n",
    "wald(mean, scale[, size])\tDraw samples from a Wald, or inverse Gaussian, distribution.\n",
    "weibull(a[, size])\tDraw samples from a Weibull distribution.\n",
    "zipf(a[, size])\tDraw samples from a Zipf distribution.\n",
    "Previous topic\n",
    "numpy.random.zipf\n",
    "\n",
    "Next topic\n",
    "numpy.random.RandomState.beta\n",
    "\n",
    "Quick search\n"
   ]
  },
  {
   "cell_type": "markdown",
   "metadata": {},
   "source": [
    "Seed the generator.\n",
    "\n",
    "This method is called when RandomState is initialized. It can be called again to re-seed the generator. For details, see RandomState.\n",
    "\n",
    "Parameters:\t\n",
    "seed : int or 1-d array_like, optional\n",
    "Seed for RandomState. Must be convertible to 32 bit unsigned integers.\n",
    "\n",
    "See also\n",
    "RandomState"
   ]
  },
  {
   "cell_type": "markdown",
   "metadata": {},
   "source": [
    "Return a tuple representing the internal state of the generator.\n",
    "\n",
    "For more details, see set_state.\n",
    "\n",
    "Returns:\t\n",
    "out : tuple(str, ndarray of 624 uints, int, int, float)\n",
    "The returned tuple has the following items:\n",
    "\n",
    "the string ‘MT19937’.\n",
    "a 1-D array of 624 unsigned integer keys.\n",
    "an integer pos.\n",
    "an integer has_gauss.\n",
    "a float cached_gaussian.\n",
    "See also\n",
    "set_state\n",
    "\n",
    "Notes\n",
    "\n",
    "set_state and get_state are not needed to work with any of the random distributions in NumPy. If the internal state is manually altered, the user should know exactly what he/she is doing."
   ]
  },
  {
   "cell_type": "markdown",
   "metadata": {},
   "source": [
    "Set the internal state of the generator from a tuple.\n",
    "\n",
    "For use if one has reason to manually (re-)set the internal state of the “Mersenne Twister”[1] pseudo-random number generating algorithm.\n",
    "\n",
    "Parameters:\t\n",
    "state : tuple(str, ndarray of 624 uints, int, int, float)\n",
    "The state tuple has the following items:\n",
    "\n",
    "the string ‘MT19937’, specifying the Mersenne Twister algorithm.\n",
    "a 1-D array of 624 unsigned integers keys.\n",
    "an integer pos.\n",
    "an integer has_gauss.\n",
    "a float cached_gaussian.\n",
    "Returns:\t\n",
    "out : None\n",
    "Returns ‘None’ on success.\n",
    "\n",
    "See also\n",
    "get_state\n",
    "\n",
    "Notes\n",
    "\n",
    "set_state and get_state are not needed to work with any of the random distributions in NumPy. If the internal state is manually altered, the user should know exactly what he/she is doing.\n",
    "\n",
    "For backwards compatibility, the form (str, array of 624 uints, int) is also accepted although it is missing some information about the cached Gaussian value: state = ('MT19937', keys, pos).\n",
    "\n",
    "References\n",
    "\n",
    "[1]\t(1, 2) M. Matsumoto and T. Nishimura, “Mersenne Twister: A 623-dimensionally equidistributed uniform pseudorandom number generator,” ACM Trans. on Modeling and Computer Simulation, Vol. 8, No. 1, pp. 3-30, Jan. 1998."
   ]
  },
  {
   "cell_type": "markdown",
   "metadata": {},
   "source": [
    "https://www.quora.com/What-is-seed-in-random-number-generation"
   ]
  },
  {
   "cell_type": "markdown",
   "metadata": {},
   "source": [
    "# References \n",
    "\n",
    "**[Wes McKinney - 10-minute tour of pandas](https://vimeo.com/59324550)**\n",
    "\n",
    "*[https://vimeo.com/59324550](https://vimeo.com/59324550)*\n",
    "\n",
    "A 10 minutes video introduction to pandas.\n",
    "\n",
    "***\n",
    "\n",
    "stat trek\n",
    "\n",
    "layered statistics\n",
    "\n",
    "https://docs.scipy.org/doc/numpy-1.14.1/reference/routines.random.html\n",
    "\n",
    "https://www.packtpub.com/mapt/book/big_data_and_business_intelligence/9781785285110/2/ch02lvl1sec16/numpy-random-numbers\n",
    "\n",
    "https://stattrek.com/survey-research/simple-random-sampling.aspx\n",
    "\n",
    "https://stackoverflow.com/questions/47231852/np-random-rand-vs-np-random-random\n",
    "\n",
    "https://towardsdatascience.com/a-quick-introduction-to-the-numpy-library-6f61b7dee4db\n",
    "\n",
    "https://en.wikipedia.org/wiki/Simple_random_sample\n",
    "\n",
    "\n",
    "\n",
    "https://en.wikipedia.org/wiki/Random_seed\n",
    "\n",
    "https://www.quora.com/What-is-seed-in-random-number-generation\n"
   ]
  },
  {
   "cell_type": "code",
   "execution_count": null,
   "metadata": {},
   "outputs": [],
   "source": []
  }
 ],
 "metadata": {
  "kernelspec": {
   "display_name": "Python 3",
   "language": "python",
   "name": "python3"
  },
  "language_info": {
   "codemirror_mode": {
    "name": "ipython",
    "version": 3
   },
   "file_extension": ".py",
   "mimetype": "text/x-python",
   "name": "python",
   "nbconvert_exporter": "python",
   "pygments_lexer": "ipython3",
   "version": "3.7.0"
  }
 },
 "nbformat": 4,
 "nbformat_minor": 2
}
